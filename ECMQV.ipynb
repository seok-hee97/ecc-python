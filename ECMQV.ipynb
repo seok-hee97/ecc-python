{
 "cells": [
  {
   "cell_type": "markdown",
   "id": "5bea8f39",
   "metadata": {},
   "source": [
    "# Elliptic Curve Menezes-Qu-Vanstone (ECMQV)\n",
    "\n",
    "ECMQV is an extension of the regular Diffie-Hellman key agreement protocol.\n",
    "\n",
    "\n",
    "\n",
    "#### Reference\n",
    "- [(Youtube)Elliptic Curve Menezes-Qu-Vanstone In Python From Scratch](https://www.youtube.com/watch?v=JKlTdY07IY4&list=PLsS_1RYmYQQEun1MTwmvbXurqHIJrFJ0e&index=28)\n",
    "- [Elliptic Curve Menezes-Qu-Vanstone In Python From Scratch](https://www.youtube.com/watch?v=JKlTdY07IY4&list=PLsS_1RYmYQQEun1MTwmvbXurqHIJrFJ0e&index=28)"
   ]
  },
  {
   "cell_type": "code",
   "execution_count": 1,
   "id": "6068ac2f",
   "metadata": {},
   "outputs": [],
   "source": [
    "import random\n",
    "import math\n",
    "from typing import Tuple\n",
    "import hmac\n",
    "import hashlib\n",
    "from Crypto.Cipher import AES"
   ]
  },
  {
   "cell_type": "markdown",
   "id": "b884a1d2",
   "metadata": {},
   "source": [
    "# Addition Law"
   ]
  },
  {
   "cell_type": "code",
   "execution_count": 2,
   "id": "791971c6",
   "metadata": {},
   "outputs": [],
   "source": [
    "# y^2 = x^3 + a*x + b"
   ]
  },
  {
   "cell_type": "code",
   "execution_count": 3,
   "id": "48638cc0",
   "metadata": {},
   "outputs": [],
   "source": [
    "def add_points(P, Q, p):\n",
    "    x1, y1 = P\n",
    "    x2, y2 = Q\n",
    "    \n",
    "    if x1 == x2 and y1 == y2:\n",
    "        beta = (3*x1*x2 + a) * pow(2*y1, -1, p)\n",
    "    else:\n",
    "        beta = (y2 - y1) * pow(x2 - x1, -1, p)\n",
    "    \n",
    "    x3 = (beta*beta - x1 - x2) % p\n",
    "    y3 = (beta * (x1 - x3) - y1) % p\n",
    "    \n",
    "    is_on_curve((x3, y3), p)\n",
    "        \n",
    "    return x3, y3\n",
    "\n",
    "def is_on_curve(P, p):\n",
    "    x, y = P\n",
    "    assert (y*y) % p == ( pow(x, 3, p) + a*x + b ) % p\n",
    "    \n",
    "def apply_double_and_add_method(G, k, p):\n",
    "    target_point = G\n",
    "    \n",
    "    k_binary = bin(k)[2:] #0b1111111001\n",
    "    \n",
    "    for i in range(1, len(k_binary)):\n",
    "        current_bit = k_binary[i: i+1]\n",
    "        \n",
    "        # doubling - always\n",
    "        target_point = add_points(target_point, target_point, p)\n",
    "        \n",
    "        if current_bit == \"1\":\n",
    "            target_point = add_points(target_point, G, p)\n",
    "    \n",
    "    is_on_curve(target_point, p)\n",
    "    \n",
    "    return target_point"
   ]
  },
  {
   "cell_type": "markdown",
   "id": "d60209f5",
   "metadata": {},
   "source": [
    "# Curve Configuration"
   ]
  },
  {
   "cell_type": "code",
   "execution_count": 4,
   "id": "06aca653",
   "metadata": {},
   "outputs": [],
   "source": [
    "# Secp256k1\n",
    "\n",
    "# curve formula\n",
    "a = 0; b = 7\n",
    "\n",
    "# base point\n",
    "G = (55066263022277343669578718895168534326250603453777594175500187360389116729240, \n",
    "     32670510020758816978083085130507043184471273380659243275938904335757337482424)\n",
    "\n",
    "# modulo\n",
    "p = pow(2, 256) - pow(2, 32) - pow(2, 9) - pow(2, 8) - pow(2, 7) - pow(2, 6) - pow(2, 4) - pow(2, 0)\n",
    "\n",
    "# order\n",
    "n = 115792089237316195423570985008687907852837564279074904382605163141518161494337\n",
    "\n",
    "# cofactor\n",
    "h = 1"
   ]
  },
  {
   "cell_type": "code",
   "execution_count": 5,
   "id": "565de55b",
   "metadata": {},
   "outputs": [],
   "source": [
    "is_on_curve(G, p)"
   ]
  },
  {
   "cell_type": "code",
   "execution_count": 6,
   "id": "0a84c8f9",
   "metadata": {},
   "outputs": [],
   "source": [
    "is_on_curve(P = apply_double_and_add_method(G = G, k = n - 1, p = p), p = p)"
   ]
  },
  {
   "cell_type": "markdown",
   "id": "af8b40c2",
   "metadata": {},
   "source": [
    "# ECMQV"
   ]
  },
  {
   "cell_type": "code",
   "execution_count": 7,
   "id": "442a4751",
   "metadata": {},
   "outputs": [],
   "source": [
    "def bar(P: Tuple) -> int:\n",
    "    l = math.ceil( (math.floor(math.log(n, 2)) + 1) / 2 )\n",
    "    x, y = P\n",
    "    P_bar = ( x % pow(2, l) ) + pow(2, l)\n",
    "    return P_bar\n",
    "\n",
    "def derive_keys(T):\n",
    "    tx, ty = T\n",
    "    \n",
    "    tx_binary = bin(tx)[2:]\n",
    "    \n",
    "    #192-bits\n",
    "    tx_binary_cropped = tx_binary[0:192]\n",
    "    \n",
    "    tx_restored = int(tx_binary_cropped, 2)\n",
    "    \n",
    "    #sha-256\n",
    "    hash_hex = hashlib.sha256(str.encode(str(tx_restored))).hexdigest()\n",
    "    hash_binary = bin(int(hash_hex, 16))[2:]\n",
    "    \n",
    "    k1 = int(hash_binary[0:128], 2).to_bytes(16, byteorder=\"big\")\n",
    "    k2 = int(hash_binary[128:], 2).to_bytes(16, byteorder=\"big\")\n",
    "    \n",
    "    return k1, k2\n",
    "\n",
    "def find_mac(message, key):\n",
    "    return hmac.new(key, message, hashlib.sha256).hexdigest()"
   ]
  },
  {
   "cell_type": "markdown",
   "id": "d30ca0f0",
   "metadata": {},
   "source": [
    "# Private - Public Key Pairs"
   ]
  },
  {
   "cell_type": "code",
   "execution_count": 8,
   "id": "10cb90e6",
   "metadata": {},
   "outputs": [],
   "source": [
    "# private key of Alice\n",
    "ka = random.getrandbits(256)\n",
    "\n",
    "# public key of Alice\n",
    "Qa = apply_double_and_add_method(G = G, k = ka, p = p)\n",
    "\n",
    "# random key of Alice (secret)\n",
    "ra = random.getrandbits(256)\n",
    "\n",
    "# random point of Alice (public)\n",
    "Ra = apply_double_and_add_method(G = G, k = ra, p = p)"
   ]
  },
  {
   "cell_type": "code",
   "execution_count": 9,
   "id": "adcefd3b",
   "metadata": {},
   "outputs": [],
   "source": [
    "# private key of Bob\n",
    "kb = random.getrandbits(256)\n",
    "\n",
    "# public key of Bob\n",
    "Qb = apply_double_and_add_method(G = G, k = kb, p = p)\n",
    "\n",
    "# random key of Bob (secret)\n",
    "rb = random.getrandbits(256)\n",
    "\n",
    "# random point of Bob (public)\n",
    "Rb = apply_double_and_add_method(G = G, k = rb, p = p)"
   ]
  },
  {
   "cell_type": "markdown",
   "id": "0735452b",
   "metadata": {},
   "source": [
    "# Signatures"
   ]
  },
  {
   "cell_type": "code",
   "execution_count": 10,
   "id": "ffc0d1bf",
   "metadata": {},
   "outputs": [],
   "source": [
    "# Alice sends sa to Bob\n",
    "sa = ( ra + bar(Ra) * ka ) % n"
   ]
  },
  {
   "cell_type": "code",
   "execution_count": 11,
   "id": "aa76eaa1",
   "metadata": {},
   "outputs": [],
   "source": [
    "# Bob sends sb to Alice\n",
    "sb = ( rb + bar(Rb) * kb ) % n"
   ]
  },
  {
   "cell_type": "markdown",
   "id": "555158d9",
   "metadata": {},
   "source": [
    "# Key Exchange"
   ]
  },
  {
   "cell_type": "code",
   "execution_count": 12,
   "id": "777ea7ad",
   "metadata": {},
   "outputs": [],
   "source": [
    "# Alice calculate Ja\n",
    "# Ja = h x sa x (Rb + Rb_bar x Qb)\n",
    "Ja = apply_double_and_add_method(G = Qb, k = bar(Rb), p = p)\n",
    "Ja = add_points(P = Rb, Q = Ja, p = p)\n",
    "Ja = apply_double_and_add_method(G = Ja, k = h*sa, p = p)"
   ]
  },
  {
   "cell_type": "code",
   "execution_count": 13,
   "id": "6321abed",
   "metadata": {},
   "outputs": [
    {
     "data": {
      "text/plain": [
       "(94716726296275940623611289480825328890161038759485052360614439381443921687546,\n",
       " 85200416612774179701927180620219484702983385270956332917351346204394568285266)"
      ]
     },
     "execution_count": 13,
     "metadata": {},
     "output_type": "execute_result"
    }
   ],
   "source": [
    "Ja"
   ]
  },
  {
   "cell_type": "code",
   "execution_count": 14,
   "id": "4ede0904",
   "metadata": {},
   "outputs": [],
   "source": [
    "# Bob calculates Jb\n",
    "# Jb = h x sb x (Ra + Ra_bar x Qa)\n",
    "Jb = apply_double_and_add_method(G = Qa, k = bar(Ra), p = p)\n",
    "Jb = add_points(P = Ra, Q = Jb, p = p)\n",
    "Jb = apply_double_and_add_method(G = Jb, k = h*sb, p = p)"
   ]
  },
  {
   "cell_type": "code",
   "execution_count": 15,
   "id": "3e26c97f",
   "metadata": {},
   "outputs": [
    {
     "data": {
      "text/plain": [
       "(94716726296275940623611289480825328890161038759485052360614439381443921687546,\n",
       " 85200416612774179701927180620219484702983385270956332917351346204394568285266)"
      ]
     },
     "execution_count": 15,
     "metadata": {},
     "output_type": "execute_result"
    }
   ],
   "source": [
    "Jb"
   ]
  },
  {
   "cell_type": "code",
   "execution_count": 16,
   "id": "7d369580",
   "metadata": {},
   "outputs": [],
   "source": [
    "assert Ja == Jb"
   ]
  },
  {
   "cell_type": "markdown",
   "id": "19bfe690",
   "metadata": {},
   "source": [
    "# Additional Security Layer with MAC\n",
    "\n",
    "Once Alice and Bob shared same J keys (Ja & Jb), they can feed this\n",
    "\n",
    "to a key derivation function and derive 2 keys: k1 and k2.\n",
    "\n",
    "They will use k1 to generate message authentication code (MAC)\n",
    "\n",
    "If MACs can be verified, then they will use k2 as AES-128 key."
   ]
  },
  {
   "cell_type": "code",
   "execution_count": 17,
   "id": "5b3b998d",
   "metadata": {},
   "outputs": [],
   "source": [
    "# Bob uses KDF and gets k1, k2 pair\n",
    "k1b, k2b = derive_keys(Jb)\n",
    "\n",
    "# Alice uses KDF to find k1, k2 pair\n",
    "k1a, k2a = derive_keys(Ja)"
   ]
  },
  {
   "cell_type": "code",
   "execution_count": 18,
   "id": "2432fb4b",
   "metadata": {},
   "outputs": [],
   "source": [
    "# Bob finds MAC for the message with k2 key\n",
    "# Notice that an attacker does not know k2, so the attacker cannot find tb\n",
    "msg = f\"2BobAlice{Rb[0]}{Rb[1]}{Ra[0]}{Ra[1]}\"\n",
    "tb = find_mac(message = bytes(msg, \"utf-8\"), key = k2b)"
   ]
  },
  {
   "cell_type": "code",
   "execution_count": 19,
   "id": "a6979de9",
   "metadata": {},
   "outputs": [],
   "source": [
    "# Alice uses k2 to validate tb coming from Bob\n",
    "msg = f\"2BobAlice{Rb[0]}{Rb[1]}{Ra[0]}{Ra[1]}\"\n",
    "t = find_mac(message = bytes(msg, \"utf-8\"), key = k2a)\n",
    "assert t == tb\n",
    "\n",
    "# Then she finds the mac of the message with k2 key\n",
    "# Notice that Bob already knows k2, so he can validate ta\n",
    "msg = f\"2AliceBob{Ra[0]}{Ra[1]}{Rb[0]}{Rb[1]}\"\n",
    "ta = find_mac(message = bytes(msg, \"utf-8\"), key = k2a)\n",
    "# Alice sends ta to Bob"
   ]
  },
  {
   "cell_type": "code",
   "execution_count": 20,
   "id": "2deb644f",
   "metadata": {},
   "outputs": [],
   "source": [
    "# Bob verifies ta coming from Alice\n",
    "msg = f\"2AliceBob{Ra[0]}{Ra[1]}{Rb[0]}{Rb[1]}\"\n",
    "t = find_mac(message = bytes(msg, \"utf-8\"), key = k2b)\n",
    "assert t == ta"
   ]
  },
  {
   "cell_type": "code",
   "execution_count": 21,
   "id": "731c302a",
   "metadata": {},
   "outputs": [
    {
     "name": "stdout",
     "output_type": "stream",
     "text": [
      "Session key is b'\\xb2\\xe2\\xe8\\x1f\\x9a\\xb4\\xffM\\xabs\\xe5Rm\\xca\\xb2/' (128 bits)\n"
     ]
    }
   ],
   "source": [
    "# Once Alice and Bob validate message authentication codes\n",
    "# they can use k1 as AES-128 key\n",
    "print(f\"Session key is {k1a} ({len(k2a)*8} bits)\")"
   ]
  },
  {
   "cell_type": "markdown",
   "id": "db52102c",
   "metadata": {},
   "source": [
    "# Symmetric Key Encryption"
   ]
  },
  {
   "cell_type": "code",
   "execution_count": null,
   "id": "7f90782e",
   "metadata": {},
   "outputs": [],
   "source": [
    "# bob will encrypt a message with k1\n",
    "msg = \"attack tomorrow!\"\n",
    "obj_bob = AES.new(k1b)\n",
    "c = obj_bob.encrypt(msg)\n",
    "print(f\"ciphertext is {c}\")"
   ]
  },
  {
   "cell_type": "code",
   "execution_count": null,
   "id": "fd0f8a13",
   "metadata": {},
   "outputs": [
    {
     "name": "stdout",
     "output_type": "stream",
     "text": [
      "restored plaintext is b'attack tomorrow!'\n"
     ]
    }
   ],
   "source": [
    "# alice will decrypt a message with k1\n",
    "obj_alice = AES.new(k1a)\n",
    "plaintext = obj_alice.decrypt(c)\n",
    "print(f\"restored plaintext is {plaintext}\")"
   ]
  },
  {
   "cell_type": "markdown",
   "id": "66173136",
   "metadata": {},
   "source": [
    "# Proof"
   ]
  },
  {
   "cell_type": "markdown",
   "id": "31b71d7d",
   "metadata": {},
   "source": [
    "Alice calculates:\n",
    "\n",
    "    Ja = h x sa x (Rb + Rb_bar x Qb)\n",
    "\n",
    "    Ja = h x sa x (rb x G + Rb_bar x kb x G)\n",
    "\n",
    "    Ja = h x sa x (rb + Rb_bar x kb) x G\n",
    "\n",
    "    Ja = h x sa x sb x G\n",
    "\n",
    "Bob calculates: \n",
    "\n",
    "    Jb = h x sb x (Ra + Ra_bar x Qa)\n",
    "\n",
    "    Jb = h x sb x (ra x G + Ra_bar x ka x G)\n",
    "\n",
    "    Jb = h x sb x (ra + Ra_bar x ka) x G\n",
    "\n",
    "    Jb = h x sb x sa x G\n",
    "\n",
    "So, Alice and Bob must calculate same point!\n",
    "\n",
    "    Ja = Jb"
   ]
  }
 ],
 "metadata": {
  "kernelspec": {
   "display_name": "Python 3 (ipykernel)",
   "language": "python",
   "name": "python3"
  },
  "language_info": {
   "codemirror_mode": {
    "name": "ipython",
    "version": 3
   },
   "file_extension": ".py",
   "mimetype": "text/x-python",
   "name": "python",
   "nbconvert_exporter": "python",
   "pygments_lexer": "ipython3",
   "version": "3.11.7"
  }
 },
 "nbformat": 4,
 "nbformat_minor": 5
}
