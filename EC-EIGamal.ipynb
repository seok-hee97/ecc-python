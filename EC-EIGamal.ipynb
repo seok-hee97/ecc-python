{
 "cells": [
  {
   "cell_type": "markdown",
   "metadata": {},
   "source": [
    "## Elliptic Curve ElGamal Encryption\n",
    "\n",
    "\n",
    "\n",
    "\n",
    "#### referecne\n",
    "- [Elliptic Curve ElGamal Encryption Explained](https://www.youtube.com/watch?v=1hERYQADqrU&list=PLsS_1RYmYQQEun1MTwmvbXurqHIJrFJ0e&index=18)\n",
    "- [Elliptic Curve ElGamal Encryption in Python From Scratch](https://www.youtube.com/watch?v=062ilU5dOzY&list=PLsS_1RYmYQQEun1MTwmvbXurqHIJrFJ0e&index=18)\n",
    "- [Elliptic Curve ElGamal Encryption - Sefik Ilkin Serengil](https://sefiks.com/2018/08/21/elliptic-curve-elgamal-encryption/#google_vignette)\n",
    "- [Elegant Signatrues with Elliptic Curve Cryptography](https://sefiks.com/2018/02/16/elegant-signatures-with-elliptic-curve-cryptography/)\n",
    "- [Double and Add Method](https://sefiks.com/2016/03/27/double-and-add-method/)\n",
    "- [Partially Homomorphic Elliptic Curve EIGamal In Python From Scratch](https://www.youtube.com/watch?v=6yN00ttpjSE&list=PLsS_1RYmYQQEun1MTwmvbXurqHIJrFJ0e&index=19)"
   ]
  },
  {
   "cell_type": "code",
   "execution_count": 1,
   "metadata": {},
   "outputs": [],
   "source": [
    "import random\n",
    "import hashlib"
   ]
  },
  {
   "cell_type": "code",
   "execution_count": 2,
   "metadata": {},
   "outputs": [],
   "source": [
    "# y^2 = x^3 + a* x + b"
   ]
  },
  {
   "cell_type": "code",
   "execution_count": 3,
   "metadata": {},
   "outputs": [],
   "source": [
    "def add_points(P, Q, p):\n",
    "    x1, y1 = P\n",
    "    x2, y2 = Q\n",
    "     \n",
    "    if x1 == x2 and y1 == y2:\n",
    "        beta = (3*x1*x2 + a) * pow(2*y1, -1, p)\n",
    "    else:\n",
    "        beta = (y2 - y1) * pow(x2 - x1, -1, p)\n",
    "     \n",
    "    x3 = (beta*beta - x1 - x2) % p\n",
    "    y3 = (beta * (x1 - x3) - y1) % p\n",
    "     \n",
    "    is_on_curve((x3, y3), p)\n",
    "         \n",
    "    return x3, y3\n",
    " \n",
    "def is_on_curve(P, p):\n",
    "    x, y = P\n",
    "    assert (y*y) % p == ( pow(x, 3, p) + a*x + b ) % p\n",
    "     \n",
    "def apply_double_and_add_method(G, k, p):\n",
    "    target_point = G\n",
    "     \n",
    "    k_binary = bin(k)[2:] #0b1111111001\n",
    "     \n",
    "    for i in range(1, len(k_binary)):\n",
    "        current_bit = k_binary[i: i+1]\n",
    "         \n",
    "        # doubling - always\n",
    "        target_point = add_points(target_point, target_point, p)\n",
    "         \n",
    "        if current_bit == \"1\":\n",
    "            target_point = add_points(target_point, G, p)\n",
    "     \n",
    "    is_on_curve(target_point, p)\n",
    "     \n",
    "    return target_point\n"
   ]
  },
  {
   "cell_type": "code",
   "execution_count": 4,
   "metadata": {},
   "outputs": [],
   "source": [
    "# from :https://sefiks.com/2018/02/16/elegant-signatures-with-elliptic-curve-cryptography/\n",
    "# Secp256k1\n",
    "a = 0; b = 7\n",
    "G = (55066263022277343669578718895168534326250603453777594175500187360389116729240, \n",
    "     32670510020758816978083085130507043184471273380659243275938904335757337482424)\n",
    "\n",
    "\n",
    "#finite field\n",
    "p = pow(2, 256) - pow(2, 32) - pow(2, 9) - pow(2, 8) - pow(2, 7) - pow(2, 6) - pow(2, 4) - pow(2, 0)\n",
    "n = 115792089237316195423570985008687907852837564279074904382605163141518161494337"
   ]
  },
  {
   "cell_type": "code",
   "execution_count": 5,
   "metadata": {},
   "outputs": [],
   "source": [
    "is_on_curve(G,p)"
   ]
  },
  {
   "cell_type": "code",
   "execution_count": 6,
   "metadata": {},
   "outputs": [
    {
     "name": "stdout",
     "output_type": "stream",
     "text": [
      "2G = (89565891926547004231252920425935692360644145829622209833684329913297188986597, 12158399299693830322967808612713398636155367887041628176798871954788371653930)\n",
      "3G = (112711660439710606056748659173929673102114977341539408544630613555209775888121, 25583027980570883691656905877401976406448868254816295069919888960541586679410)\n",
      "4G = (103388573995635080359749164254216598308788835304023601477803095234286494993683, 37057141145242123013015316630864329550140216928701153669873286428255828810018)\n",
      "5G = (21505829891763648114329055987619236494102133314575206970830385799158076338148, 98003708678762621233683240503080860129026887322874138805529884920309963580118)\n",
      "6G = (115780575977492633039504758427830329241728645270042306223540962614150928364886, 78735063515800386211891312544505775871260717697865196436804966483607426560663)\n",
      "7G = (41948375291644419605210209193538855353224492619856392092318293986323063962044, 48361766907851246668144012348516735800090617714386977531302791340517493990618)\n",
      "8G = (21262057306151627953595685090280431278183829487175876377991189246716355947009, 41749993296225487051377864631615517161996906063147759678534462689479575333124)\n",
      "9G = (78173298682877769088723994436027545680738210601369041078747105985693655485630, 92362876758821804597230797234617159328445543067760556585160674174871431781431)\n",
      "10G = (72488970228380509287422715226575535698893157273063074627791787432852706183111, 62070622898698443831883535403436258712770888294397026493185421712108624767191)\n",
      "11G = (53957576663012291606402345341061437133522758407718089353314528343643821967563, 98386217607324929854432842186271083758341411730506808463586570492533445740059)\n",
      "12G = (94111259592240215275188773285036844871058226277992966241101117022315524122714, 76870767327212528811304566602812752860184934880685532702451763239157141742375)\n",
      "13G = (109699032664856045668214896063362497021339186688470416858630178803463338613416, 4835088675770141268294878046681321747490758260515711581034896622314066275713)\n",
      "14G = (33301309993451753050311554695703528430361259803437469669590207169100761277412, 91711666877231500617203373035680263572492971120307578300405368749466283229019)\n",
      "15G = (97505755694356382817881959832717013755620551362654128955029190924747025549326, 39856815248295663243990443767776362321337592747889787217974905533720651000664)\n",
      "16G = (104059883622109321374094289636044428849728529177856482232626205340719788190730, 112122903140080327253741791678230372394936108416576609264408917599318947489825)\n",
      "17G = (100862081773581120499222301212791081193994281440454033593790618293887747050036, 29883864782608871580821802176208615141762369223249393426421538275393411672951)\n",
      "18G = (38901272619685732968285380035171577070479117282397203902622597987558769928140, 87393127487643849618870152207476122589010570440825041333620493866032028851544)\n",
      "19G = (19588375357829479297593261744848590434972900972071148260168833594658324503404, 60568592333449737531184420002591396163903580402725242236305558432410218044282)\n",
      "20G = (34773495056115281091786765947597603724784643419904767525769502836017890139287, 8470533044743364938367028725608288731153024648869546164814808839694950063162)\n"
     ]
    }
   ],
   "source": [
    "tmp_point = G\n",
    "for i in range(2,21):\n",
    "    tmp_point = add_points(tmp_point, G, p)\n",
    "    print(f\"{i}G = {tmp_point}\")"
   ]
  },
  {
   "cell_type": "code",
   "execution_count": 7,
   "metadata": {},
   "outputs": [
    {
     "data": {
      "text/plain": [
       "(34773495056115281091786765947597603724784643419904767525769502836017890139287,\n",
       " 8470533044743364938367028725608288731153024648869546164814808839694950063162)"
      ]
     },
     "execution_count": 7,
     "metadata": {},
     "output_type": "execute_result"
    }
   ],
   "source": [
    "apply_double_and_add_method(G= G, k = 20, p= p)"
   ]
  },
  {
   "cell_type": "code",
   "execution_count": 8,
   "metadata": {},
   "outputs": [],
   "source": [
    "# Q  = k x G"
   ]
  },
  {
   "cell_type": "markdown",
   "metadata": {},
   "source": [
    "## Elliptic Curve EIGamal"
   ]
  },
  {
   "cell_type": "code",
   "execution_count": 9,
   "metadata": {},
   "outputs": [],
   "source": [
    "import random"
   ]
  },
  {
   "cell_type": "code",
   "execution_count": 10,
   "metadata": {},
   "outputs": [],
   "source": [
    "# alice\n",
    "ka = random.getrandbits(256) # private of Alice\n",
    "Qa = apply_double_and_add_method(G= G, k = ka, p = p)"
   ]
  },
  {
   "cell_type": "markdown",
   "metadata": {},
   "source": [
    "### encryption"
   ]
  },
  {
   "cell_type": "code",
   "execution_count": 11,
   "metadata": {},
   "outputs": [],
   "source": [
    "def encrypt(m, r):\n",
    "    s = apply_double_and_add_method(G = G, k = m, p = p)\n",
    "    \n",
    "    c1 = apply_double_and_add_method(G = G, k = r, p = p)\n",
    "\n",
    "    c2 = apply_double_and_add_method(G = Qa, k = r, p = p)\n",
    "\n",
    "    c2 = add_points(c2, s, p)\n",
    "    \n",
    "    return c1, c2"
   ]
  },
  {
   "cell_type": "code",
   "execution_count": 12,
   "metadata": {},
   "outputs": [],
   "source": [
    "# bob\n",
    "m = 23061912\n",
    "r = random.getrandbits(128)\n",
    "\n",
    "c1 , c2 = encrypt(m, r)"
   ]
  },
  {
   "cell_type": "code",
   "execution_count": 13,
   "metadata": {},
   "outputs": [
    {
     "data": {
      "text/plain": [
       "((67932942643477861137570749318193179372365035511177219913526477686254759985685,\n",
       "  96346287051504101160781191221261490297751369518233018073737786391687562671162),\n",
       " (54001615288904438499547598191396284522045618649289907913372471121439637096585,\n",
       "  27689371508052194115809552373168162248070234664727247475655652473513122785713))"
      ]
     },
     "execution_count": 13,
     "metadata": {},
     "output_type": "execute_result"
    }
   ],
   "source": [
    "(c1, c2)"
   ]
  },
  {
   "cell_type": "markdown",
   "metadata": {},
   "source": [
    "### decryption"
   ]
  },
  {
   "cell_type": "code",
   "execution_count": 14,
   "metadata": {},
   "outputs": [],
   "source": [
    "# s_prime = c2 - ka x c1\n",
    "# s_privme = c2 + ( ka x -c1)\n",
    "# (x, y) + (x, -y) = o"
   ]
  },
  {
   "cell_type": "code",
   "execution_count": 15,
   "metadata": {},
   "outputs": [],
   "source": [
    "c1_prime = (c1[0], ((-1*c1[1]) % p))"
   ]
  },
  {
   "cell_type": "code",
   "execution_count": 16,
   "metadata": {},
   "outputs": [],
   "source": [
    "s_prime = apply_double_and_add_method(G =c1_prime, k = ka, p = p)\n",
    "s_prime = add_points(P = c2, Q = s_prime, p = p)"
   ]
  },
  {
   "cell_type": "code",
   "execution_count": 17,
   "metadata": {},
   "outputs": [
    {
     "data": {
      "text/plain": [
       "(101401888938080707466461718009381950095311426580467620560673978804974259848061,\n",
       " 81617838766714377738166229284883214383180826546122608693522719057922160918473)"
      ]
     },
     "execution_count": 17,
     "metadata": {},
     "output_type": "execute_result"
    }
   ],
   "source": [
    "s_prime"
   ]
  },
  {
   "cell_type": "code",
   "execution_count": 19,
   "metadata": {},
   "outputs": [],
   "source": [
    "s_real = apply_double_and_add_method(G = G, k = m, p = p)"
   ]
  },
  {
   "cell_type": "code",
   "execution_count": 21,
   "metadata": {},
   "outputs": [],
   "source": [
    "assert s_real == s_prime"
   ]
  },
  {
   "cell_type": "code",
   "execution_count": null,
   "metadata": {},
   "outputs": [],
   "source": [
    "# S = m x G\n",
    "# Extracting m from given S and G is hard. Remember ECDLP."
   ]
  },
  {
   "cell_type": "markdown",
   "metadata": {},
   "source": [
    "##  partially  homomorphic features\n",
    "\n",
    "- [Partially Homomorphic Elliptic Curve ElGamal In Python From Scratch](https://www.youtube.com/watch?v=6yN00ttpjSE&list=PLsS_1RYmYQQEun1MTwmvbXurqHIJrFJ0e&index=19)"
   ]
  },
  {
   "cell_type": "code",
   "execution_count": 22,
   "metadata": {},
   "outputs": [],
   "source": [
    "m1 = 333\n",
    "r1 =  random.getrandbits(256)\n",
    "\n",
    "\n",
    "m2 = 777\n",
    "r2 = random.getrandbits(256)"
   ]
  },
  {
   "cell_type": "code",
   "execution_count": 23,
   "metadata": {},
   "outputs": [],
   "source": [
    "c1_x, c2_x = encrypt(m1, r1)\n",
    "c1_y, c2_y = encrypt(m2, r2)"
   ]
  },
  {
   "cell_type": "code",
   "execution_count": 24,
   "metadata": {},
   "outputs": [],
   "source": [
    "m1_encrypted_plus_m2_encrypted = (\n",
    "    add_points(\n",
    "        P = c1_x,\n",
    "        Q = c1_y,\n",
    "        p = p),\n",
    "    add_points(\n",
    "        P = c2_x,\n",
    "        Q = c2_y,\n",
    "        p = p)\n",
    ")"
   ]
  },
  {
   "cell_type": "code",
   "execution_count": 25,
   "metadata": {},
   "outputs": [
    {
     "data": {
      "text/plain": [
       "((16293082494909202026668116138433544969116815689665562688388021786473793795108,\n",
       "  62717204492809097912502142116326690081471901525228560025899585945952408546333),\n",
       " (100874565268028775236043646930511156629689628123228345795629771907264896671234,\n",
       "  100128310350871996116828588293706705304972243545185077971605850484135476568690))"
      ]
     },
     "execution_count": 25,
     "metadata": {},
     "output_type": "execute_result"
    }
   ],
   "source": [
    "m1_encrypted_plus_m2_encrypted"
   ]
  },
  {
   "cell_type": "code",
   "execution_count": 26,
   "metadata": {},
   "outputs": [
    {
     "data": {
      "text/plain": [
       "((16293082494909202026668116138433544969116815689665562688388021786473793795108,\n",
       "  62717204492809097912502142116326690081471901525228560025899585945952408546333),\n",
       " (100874565268028775236043646930511156629689628123228345795629771907264896671234,\n",
       "  100128310350871996116828588293706705304972243545185077971605850484135476568690))"
      ]
     },
     "execution_count": 26,
     "metadata": {},
     "output_type": "execute_result"
    }
   ],
   "source": [
    "encrypt(m1 + m2, r1+ r2)"
   ]
  },
  {
   "cell_type": "code",
   "execution_count": 27,
   "metadata": {},
   "outputs": [],
   "source": [
    "assert encrypt(m1 + m2, r1+ r2) == m1_encrypted_plus_m2_encrypted"
   ]
  },
  {
   "cell_type": "code",
   "execution_count": null,
   "metadata": {},
   "outputs": [],
   "source": []
  }
 ],
 "metadata": {
  "kernelspec": {
   "display_name": "base",
   "language": "python",
   "name": "python3"
  },
  "language_info": {
   "codemirror_mode": {
    "name": "ipython",
    "version": 3
   },
   "file_extension": ".py",
   "mimetype": "text/x-python",
   "name": "python",
   "nbconvert_exporter": "python",
   "pygments_lexer": "ipython3",
   "version": "3.11.7"
  }
 },
 "nbformat": 4,
 "nbformat_minor": 2
}
