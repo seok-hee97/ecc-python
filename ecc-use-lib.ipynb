{
 "cells": [
  {
   "cell_type": "markdown",
   "metadata": {},
   "source": [
    "### Coding ECC\n",
    "\n",
    "\n",
    "\n",
    "#### Reference\n",
    "- [learn how to code elliptic curve cryptography](https://medium.com/coinmonks/learn-how-to-code-elliptic-curve-cryptography-a952dfdc20ab)"
   ]
  },
  {
   "cell_type": "markdown",
   "metadata": {},
   "source": [
    "Install python lib"
   ]
  },
  {
   "cell_type": "code",
   "execution_count": 3,
   "metadata": {},
   "outputs": [
    {
     "name": "stdout",
     "output_type": "stream",
     "text": [
      "Requirement already satisfied: fastecdsa in /Users/jangseokhee/anaconda3/lib/python3.11/site-packages (2.3.2)\n"
     ]
    }
   ],
   "source": [
    "!pip install fastecdsa"
   ]
  },
  {
   "cell_type": "markdown",
   "metadata": {},
   "source": [
    "Check python lib"
   ]
  },
  {
   "cell_type": "code",
   "execution_count": 6,
   "metadata": {},
   "outputs": [
    {
     "name": "stdout",
     "output_type": "stream",
     "text": [
      "Name: fastecdsa\n",
      "Version: 2.3.2\n",
      "Summary: Fast elliptic curve digital signatures\n",
      "Home-page: \n",
      "Author: \n",
      "Author-email: Anton Kueltz <kueltz.anton@gmail.com>\n",
      "License: This is free and unencumbered software released into the public domain.\n",
      "\n",
      "Anyone is free to copy, modify, publish, use, compile, sell, or\n",
      "distribute this software, either in source code form or as a compiled\n",
      "binary, for any purpose, commercial or non-commercial, and by any\n",
      "means.\n",
      "\n",
      "In jurisdictions that recognize copyright laws, the author or authors\n",
      "of this software dedicate any and all copyright interest in the\n",
      "software to the public domain. We make this dedication for the benefit\n",
      "of the public at large and to the detriment of our heirs and\n",
      "successors. We intend this dedication to be an overt act of\n",
      "relinquishment in perpetuity of all present and future rights to this\n",
      "software under copyright law.\n",
      "\n",
      "THE SOFTWARE IS PROVIDED \"AS IS\", WITHOUT WARRANTY OF ANY KIND,\n",
      "EXPRESS OR IMPLIED, INCLUDING BUT NOT LIMITED TO THE WARRANTIES OF\n",
      "MERCHANTABILITY, FITNESS FOR A PARTICULAR PURPOSE AND NONINFRINGEMENT.\n",
      "IN NO EVENT SHALL THE AUTHORS BE LIABLE FOR ANY CLAIM, DAMAGES OR\n",
      "OTHER LIABILITY, WHETHER IN AN ACTION OF CONTRACT, TORT OR OTHERWISE,\n",
      "ARISING FROM, OUT OF OR IN CONNECTION WITH THE SOFTWARE OR THE USE OR\n",
      "OTHER DEALINGS IN THE SOFTWARE.\n",
      "\n",
      "For more information, please refer to <http://unlicense.org/>\n",
      "\n",
      "Location: /Users/jangseokhee/anaconda3/lib/python3.11/site-packages\n",
      "Requires: \n",
      "Required-by: \n"
     ]
    }
   ],
   "source": [
    "!pip show fastecdsa"
   ]
  },
  {
   "cell_type": "markdown",
   "metadata": {},
   "source": [
    "First we import some classes from the fastecdsa library. The class keys contains a function to generate a keypair using the maths of elliptic curves. The class curve contains many different elliptic curves, from which you can choose one to generate your keys on. The class ecdsa is used later to generate and verify signatures. In the second line, a pair of a public and a private key is generated using the curve P256. After that we print both the private and the public key. The result should look something like this for the private key:"
   ]
  },
  {
   "cell_type": "code",
   "execution_count": 1,
   "metadata": {},
   "outputs": [
    {
     "name": "stdout",
     "output_type": "stream",
     "text": [
      "68384953212043287893839725684811043013893476123246918249862044280331433684263\n",
      "X: 0x40135c6e2d838cb07e9b5a8c0821100725ce7cf6fed54b05c62d3c4c01953885\n",
      "Y: 0x7a27c646484441ca791259a93e681a0373ecd91df1b9dbb54b1c1a783a57632e\n",
      "(On curve <P256>)\n"
     ]
    }
   ],
   "source": [
    "from fastecdsa import keys, curve,ecdsa\n",
    "priv_key, pub_key = keys.gen_keypair(curve.P256) \n",
    "print(priv_key)\n",
    "print(pub_key)"
   ]
  },
  {
   "cell_type": "markdown",
   "metadata": {},
   "source": [
    "We define some string as a message and then use the imported class ecdsa to generate a signature (r,s). After that, we print it and should get something similar to the following:"
   ]
  },
  {
   "cell_type": "code",
   "execution_count": 3,
   "metadata": {},
   "outputs": [
    {
     "name": "stdout",
     "output_type": "stream",
     "text": [
      "99090212273267572119257871058075486486422306677036937377909665993777122614360 9539906436296285292741698945477311983780461776745390274956775537242748522061\n"
     ]
    }
   ],
   "source": [
    "message = 'I am a message'\n",
    "(r,s) = ecdsa.sign(message, priv_key)\n",
    "print(r,s)"
   ]
  },
  {
   "cell_type": "markdown",
   "metadata": {},
   "source": [
    "Now we can go on to verifying this signature. Again, just add the following lines of code:\n",
    "\n",
    "\n",
    "\n",
    "We are again using the ecdsa class and calling the function verify() from it, which is dependent on the three parameters signature, message and the public key of the one generating the message. After that, we print the variable valid, which, if everything worked out, should give you the following output:\n",
    "\n"
   ]
  },
  {
   "cell_type": "code",
   "execution_count": 4,
   "metadata": {},
   "outputs": [
    {
     "name": "stdout",
     "output_type": "stream",
     "text": [
      "True\n"
     ]
    }
   ],
   "source": [
    "valid = ecdsa.verify((r,s),message,pub_key)\n",
    "print(valid)"
   ]
  },
  {
   "cell_type": "code",
   "execution_count": null,
   "metadata": {},
   "outputs": [],
   "source": []
  },
  {
   "cell_type": "code",
   "execution_count": null,
   "metadata": {},
   "outputs": [],
   "source": []
  }
 ],
 "metadata": {
  "kernelspec": {
   "display_name": "Python 3",
   "language": "python",
   "name": "python3"
  },
  "language_info": {
   "codemirror_mode": {
    "name": "ipython",
    "version": 3
   },
   "file_extension": ".py",
   "mimetype": "text/x-python",
   "name": "python",
   "nbconvert_exporter": "python",
   "pygments_lexer": "ipython3",
   "version": "3.11.7"
  }
 },
 "nbformat": 4,
 "nbformat_minor": 2
}
