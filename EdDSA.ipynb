{
 "cells": [
  {
   "cell_type": "markdown",
   "metadata": {},
   "source": [
    "## Edwards Curve Digital Signature Algorithm (EdDSA) In Python From Scratch\n",
    "\n",
    "### reference\n",
    "\n",
    "- [Edwards Curve Digital Signature Algorithm (EdDSA) Explained](https://www.youtube.com/watch?v=OfnJGLiLkRk&list=PLsS_1RYmYQQEun1MTwmvbXurqHIJrFJ0e&index=14)\n",
    "- [Edwards Curve Digital Signature Algorithm (EdDSA) In Python From Scratch](https://www.youtube.com/watch?v=8TnRzFt3-K0&list=PLsS_1RYmYQQEun1MTwmvbXurqHIJrFJ0e&index=15)\n",
    "- [A Gentle Introduction to Edwards-curve Digital Signature Algorithm (EdDSA)](https://sefiks.com/2018/12/24/a-gentle-introduction-to-edwards-curve-digital-signature-algorithm-eddsa/#google_vignette)"
   ]
  },
  {
   "cell_type": "code",
   "execution_count": 76,
   "metadata": {},
   "outputs": [],
   "source": [
    "import random\n",
    "import hashlib"
   ]
  },
  {
   "cell_type": "code",
   "execution_count": 77,
   "metadata": {},
   "outputs": [],
   "source": [
    "def add_points(P, Q, a, d, p):\n",
    "    # twisted edwards curve: (a*x^2 + y^2) mod p = (1 + d*x^2*y^2) mod p\n",
    "    \n",
    "    x1, y1 = P\n",
    "    x2, y2 = Q\n",
    "    \n",
    "    x3 = (((x1*y2 + y1*x2) %p ) * pow(1 + d*x1*x2*y1*y2, -1 ,p)) % p\n",
    "    y3 = (((y1*y2 - a*x1*x2) % p) * pow(1 - d*x1*x2*y1*y2, -1, p)) % p\n",
    "    \n",
    "    assert (a*x3*x3 + y3*y3) % p == (1 + d*x3*x3*y3*y3) % p\n",
    "    \n",
    "    \n",
    "    return x3, y3\n",
    "\n",
    "\n",
    "def apply_double_and_add_method(Q, k, a, d, p):\n",
    "    \"\"\"KQ = K x Q\"\"\"\n",
    "    addition_point = Q\n",
    "     \n",
    "    k_binary = bin(k)[2:] #0b1111111001\n",
    "     \n",
    "    for i in range(1, len(k_binary)):\n",
    "        current_bit = k_binary[i: i+1]\n",
    "         \n",
    "        # doubling - always\n",
    "        addtion_point = add_points(addition_point, addition_point, a, d, p)\n",
    "         \n",
    "        if current_bit == \"1\":\n",
    "            addtion_point = add_points(addition_point, Q, a, d, p)\n",
    "     \n",
    "    # is_on_curve(addtion_point, p)\n",
    "     \n",
    "    return addition_point"
   ]
  },
  {
   "cell_type": "code",
   "execution_count": 78,
   "metadata": {},
   "outputs": [],
   "source": [
    "# Ed25519, Curve25519\n",
    "p = pow(2,255) - 19\n",
    "a = -1\n",
    "\n",
    "\n",
    "d = -121665/121666\n",
    "d = (-121665 * pow(121666, -1, p)) %p"
   ]
  },
  {
   "cell_type": "code",
   "execution_count": 79,
   "metadata": {},
   "outputs": [],
   "source": [
    "# base point G\n",
    "u = 9\n",
    "# Gy = (u-1)/ (u+1)\n",
    "Gy = ( (u - 1) * pow(u+1, -1, p) ) % p\n",
    "Gx = 15112221349535400772501151409588531511454012693041857206046113283949847762202\n",
    "\n",
    "G = (Gx, Gy)"
   ]
  },
  {
   "cell_type": "code",
   "execution_count": 80,
   "metadata": {},
   "outputs": [
    {
     "data": {
      "text/plain": [
       "46316835694926478169428394003475163141307993866256225615783033603165251855960"
      ]
     },
     "execution_count": 80,
     "metadata": {},
     "output_type": "execute_result"
    }
   ],
   "source": [
    "Gy  "
   ]
  },
  {
   "cell_type": "code",
   "execution_count": 81,
   "metadata": {},
   "outputs": [],
   "source": [
    "assert (a*Gx*Gx + Gy*Gy) % p == (1 + d*Gx*Gx*Gy*Gy) % p"
   ]
  },
  {
   "cell_type": "code",
   "execution_count": 82,
   "metadata": {},
   "outputs": [
    {
     "name": "stdout",
     "output_type": "stream",
     "text": [
      "2G = (24727413235106541002554574571675588834622768167397638456726423682521233608206, 15549675580280190176352668710449542251549572066445060580507079593062643049417)\n",
      "3G = (46896733464454938657123544595386787789046198280132665686241321779790909858396, 8324843778533443976490377120369201138301417226297555316741202210403726505172)\n",
      "4G = (14582954232372986451776170844943001818709880559417862259286374126315108956272, 32483318716863467900234833297694612235682047836132991208333042722294373421359)\n",
      "5G = (33467004535436536005251147249499675200073690106659565782908757308821616914995, 43097193783671926753355113395909008640284023746042808659097434958891230611693)\n",
      "6G = (34643617590234865996699167120328052565261792237873803846102513686264813449789, 2399184961499513294557607325187831088545696902880432827228757905043131825908)\n",
      "7G = (9199134265559022971505535402808359556995554859516252602543778295037484220679, 22512087849695599276028560866629687720820254811233262850576678203618951717560)\n",
      "8G = (46706390780465557264338673484185971070529246228527338942042475661633188627656, 15299170165656271974649334809062094114079726227711063015095704409550798436788)\n",
      "9G = (24193060302538010417230488029838514081720802923509845138863968807030823940444, 57551756252899625001155759838357770487605224608455116862194664796369308545472)\n",
      "10G = (43500613248243327786121022071801015118933854441360174117148262713429272820047, 45005105423099817237495816771148012388779685712352441364231470781391834741548)\n",
      "11G = (9451145793506787353375160377761530931587019091193333050860601958827395183563, 20609402718286069808115703540855311742885093522056241285814584245966805874451)\n",
      "12G = (32159939716063394567822525359727347405356413309540137282993608327129696604205, 29147333543209904737197244325450674102993621692520459538942544703173373584633)\n",
      "13G = (7442235066513780790779899786332475485840754593728627195931759107337804079085, 8529785864514984411577036536286432879603480171865651918962709025066066124672)\n",
      "14G = (14642270634066990240227516988620748386040643134865523775420225321890511918521, 35422008320351900419562335198749713095866812710345432231966142485751234570297)\n",
      "15G = (35771902585589234259498423420223840099331465042459337605611172842168536632769, 8502034780705657720897159939055122322178084209392286764802307224484658961631)\n",
      "16G = (16121637619009607773439840283436156467545443443832420589584197780484295031288, 50925107901044861941301590032293890690813323578124472818968980802518735333355)\n",
      "17G = (56887487962890212366448920369068155807228363509110160616941230120594402893674, 50399614753915632959315208729749638020219221279769677088273404540033848294916)\n",
      "18G = (8778631385113979698503536285416800227654173765449177055618004852346255903638, 20836693273279846447679364815620750369985077404681918478249609412539783163978)\n",
      "19G = (13346702616305880250625797905033110013610783268122163073441956367914506994802, 28538738933473734169299754119352599799370168616011542341037902841874845881785)\n",
      "20G = (46694936775300686710656303283485882876784402425210400817529601134760286812591, 8786390172762935853260670851718824721296437982862763585171334833968259029560)\n",
      "21G = (50225771949201274361147459834746220569466535222228818887295803055453597226774, 46208027515524026132634947992908006558629116634733371548624088163349986879646)\n"
     ]
    }
   ],
   "source": [
    "H = G\n",
    "for i in range(0, 20):\n",
    "    H = add_points(H, G, a, d, p)\n",
    "    print(f\"{i+2}G = {H}\")"
   ]
  },
  {
   "cell_type": "markdown",
   "metadata": {},
   "source": [
    "#### Geterate Private Key - public key"
   ]
  },
  {
   "cell_type": "code",
   "execution_count": 83,
   "metadata": {},
   "outputs": [],
   "source": [
    "# Geterate Private Key - public key\n",
    "\n",
    "private_key = random.getrandbits(256)\n",
    "public_key = apply_double_and_add_method(G, private_key, a, d, p)"
   ]
  },
  {
   "cell_type": "code",
   "execution_count": 84,
   "metadata": {},
   "outputs": [
    {
     "name": "stdout",
     "output_type": "stream",
     "text": [
      "69385452460760307309630523037344954914557867788346609336010656167978758774665\n",
      "(15112221349535400772501151409588531511454012693041857206046113283949847762202, 46316835694926478169428394003475163141307993866256225615783033603165251855960)\n"
     ]
    }
   ],
   "source": [
    "print(private_key)\n",
    "print(public_key)"
   ]
  },
  {
   "cell_type": "markdown",
   "metadata": {},
   "source": [
    "#### Sign"
   ]
  },
  {
   "cell_type": "code",
   "execution_count": 85,
   "metadata": {},
   "outputs": [],
   "source": [
    "# sign\n",
    "\n",
    "def text_to_int(text):\n",
    "    encoded_text = text.encode(\"utf-8\")\n",
    "    hex_text  = encoded_text.hex()\n",
    "    return int(hex_text, 16)\n",
    "\n",
    "\n",
    "def hashing(message_int):\n",
    "    return int(hashlib.sha256(str(message_int).encode(\"utf-8\")).hexdigest(), 16)\n",
    "    \n",
    "\n",
    "message = text_to_int(\"Heelo, world!\")\n",
    "r = hashing(hashing(message) + message) % p\n",
    "\n",
    "R = apply_double_and_add_method(G, r, a, d, p)\n",
    "\n",
    "h = (R[0] + public_key[0] + message) % p\n",
    "s = (r + h * private_key)\n",
    "\n",
    "# (R, s)"
   ]
  },
  {
   "cell_type": "markdown",
   "metadata": {},
   "source": [
    "#### Verify"
   ]
  },
  {
   "cell_type": "code",
   "execution_count": 86,
   "metadata": {},
   "outputs": [
    {
     "ename": "AssertionError",
     "evalue": "",
     "output_type": "error",
     "traceback": [
      "\u001b[0;31m---------------------------------------------------------------------------\u001b[0m",
      "\u001b[0;31mAssertionError\u001b[0m                            Traceback (most recent call last)",
      "Cell \u001b[0;32mIn[86], line 11\u001b[0m\n\u001b[1;32m      7\u001b[0m P1 \u001b[38;5;241m=\u001b[39m apply_double_and_add_method(G, s, a, d, p)\n\u001b[1;32m      8\u001b[0m P2 \u001b[38;5;241m=\u001b[39m add_points(R, apply_double_and_add_method(public_key, h, a, d, p), a, d, p)\n\u001b[0;32m---> 11\u001b[0m \u001b[38;5;28;01massert\u001b[39;00m  P1[\u001b[38;5;241m0\u001b[39m] \u001b[38;5;241m==\u001b[39m P2[\u001b[38;5;241m0\u001b[39m] \u001b[38;5;129;01mand\u001b[39;00m P1[\u001b[38;5;241m1\u001b[39m] \u001b[38;5;241m==\u001b[39m P2[\u001b[38;5;241m1\u001b[39m]\n",
      "\u001b[0;31mAssertionError\u001b[0m: "
     ]
    }
   ],
   "source": [
    "# Verify\n",
    "# message, (R, s), public_key, a, d, p, G\n",
    "\n",
    "h = (R[0] + public_key[0] + message) % p\n",
    "\n",
    "\n",
    "P1 = apply_double_and_add_method(G, s, a, d, p)\n",
    "P2 = add_points(R, apply_double_and_add_method(public_key, h, a, d, p), a, d, p)\n",
    "\n",
    "\n",
    "assert  P1[0] == P2[0] and P1[1] == P2[1]"
   ]
  },
  {
   "cell_type": "code",
   "execution_count": null,
   "metadata": {},
   "outputs": [
    {
     "data": {
      "text/plain": [
       "(15112221349535400772501151409588531511454012693041857206046113283949847762202,\n",
       " 46316835694926478169428394003475163141307993866256225615783033603165251855960)"
      ]
     },
     "execution_count": 73,
     "metadata": {},
     "output_type": "execute_result"
    }
   ],
   "source": [
    "P1"
   ]
  },
  {
   "cell_type": "code",
   "execution_count": null,
   "metadata": {},
   "outputs": [
    {
     "data": {
      "text/plain": [
       "(24727413235106541002554574571675588834622768167397638456726423682521233608206,\n",
       " 15549675580280190176352668710449542251549572066445060580507079593062643049417)"
      ]
     },
     "execution_count": 74,
     "metadata": {},
     "output_type": "execute_result"
    }
   ],
   "source": [
    "P2"
   ]
  },
  {
   "cell_type": "code",
   "execution_count": null,
   "metadata": {},
   "outputs": [],
   "source": [
    "\"\"\"\n",
    "s = (r + h * private_key)\n",
    "P1 = sxG\n",
    "P1 = (r + h * private_key) x G\n",
    "P1 = rxG + h*private_key*G\n",
    "P1 = R + h * public_key\n",
    "\"\"\""
   ]
  },
  {
   "cell_type": "code",
   "execution_count": null,
   "metadata": {},
   "outputs": [],
   "source": []
  }
 ],
 "metadata": {
  "kernelspec": {
   "display_name": "base",
   "language": "python",
   "name": "python3"
  },
  "language_info": {
   "codemirror_mode": {
    "name": "ipython",
    "version": 3
   },
   "file_extension": ".py",
   "mimetype": "text/x-python",
   "name": "python",
   "nbconvert_exporter": "python",
   "pygments_lexer": "ipython3",
   "version": "3.11.7"
  }
 },
 "nbformat": 4,
 "nbformat_minor": 2
}
