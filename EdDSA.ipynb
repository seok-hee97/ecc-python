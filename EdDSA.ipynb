{
 "cells": [
  {
   "cell_type": "markdown",
   "metadata": {},
   "source": [
    "## Edwards Curve Digital Signature Algorithm (EdDSA) In Python From Scratch\n",
    "\n",
    "### reference\n",
    "\n",
    "- [Edwards Curve Digital Signature Algorithm (EdDSA) Explained](https://www.youtube.com/watch?v=OfnJGLiLkRk&list=PLsS_1RYmYQQEun1MTwmvbXurqHIJrFJ0e&index=14)\n",
    "- [Edwards Curve Digital Signature Algorithm (EdDSA) In Python From Scratch](https://www.youtube.com/watch?v=8TnRzFt3-K0&list=PLsS_1RYmYQQEun1MTwmvbXurqHIJrFJ0e&index=15)\n",
    "- [A Gentle Introduction to Edwards-curve Digital Signature Algorithm (EdDSA)](https://sefiks.com/2018/12/24/a-gentle-introduction-to-edwards-curve-digital-signature-algorithm-eddsa/#google_vignette)"
   ]
  },
  {
   "cell_type": "markdown",
   "metadata": {},
   "source": []
  },
  {
   "cell_type": "markdown",
   "metadata": {},
   "source": []
  },
  {
   "cell_type": "code",
   "execution_count": null,
   "metadata": {},
   "outputs": [],
   "source": []
  },
  {
   "cell_type": "code",
   "execution_count": null,
   "metadata": {},
   "outputs": [],
   "source": []
  },
  {
   "cell_type": "code",
   "execution_count": null,
   "metadata": {},
   "outputs": [],
   "source": []
  }
 ],
 "metadata": {
  "language_info": {
   "name": "python"
  }
 },
 "nbformat": 4,
 "nbformat_minor": 2
}
