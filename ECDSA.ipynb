{
 "cells": [
  {
   "cell_type": "markdown",
   "metadata": {},
   "source": [
    "## Elliptic Curve Digital Signature Algorithm (ECDSA) in Python From Scratch\n",
    "\n",
    "\n",
    "### Reference\n",
    "- [Elliptic Curve Digital Signature Algorithm (ECDSA) Explained](https://www.youtube.com/watch?v=Br8o9KnyPJI&list=PLsS_1RYmYQQEun1MTwmvbXurqHIJrFJ0e&index=12)\n",
    "- [Elliptic Curve Digital Signature Algorithm (ECDSA) in Python From Scratch](https://www.youtube.com/watch?v=2n1Z6jmzvxs&list=PLsS_1RYmYQQEun1MTwmvbXurqHIJrFJ0e&index=12)\n",
    "- [Attacking ECDSA with Not Random Keys: The Sony PlayStation 3 Hack](https://www.youtube.com/watch?v=OWv9c0mlppI&list=PLsS_1RYmYQQEun1MTwmvbXurqHIJrFJ0e&index=13)"
   ]
  },
  {
   "cell_type": "code",
   "execution_count": 9,
   "metadata": {},
   "outputs": [],
   "source": [
    "import random\n",
    "import hashlib"
   ]
  },
  {
   "cell_type": "code",
   "execution_count": null,
   "metadata": {},
   "outputs": [],
   "source": [
    "# y^2 = x^3 + a* x + b"
   ]
  },
  {
   "cell_type": "code",
   "execution_count": 2,
   "metadata": {},
   "outputs": [],
   "source": [
    "def add_points(P, Q, p):\n",
    "    x1, y1 = P\n",
    "    x2, y2 = Q\n",
    "     \n",
    "    if x1 == x2 and y1 == y2:\n",
    "        beta = (3*x1*x2 + a) * pow(2*y1, -1, p)\n",
    "    else:\n",
    "        beta = (y2 - y1) * pow(x2 - x1, -1, p)\n",
    "     \n",
    "    x3 = (beta*beta - x1 - x2) % p\n",
    "    y3 = (beta * (x1 - x3) - y1) % p\n",
    "     \n",
    "    is_on_curve((x3, y3), p)\n",
    "         \n",
    "    return x3, y3\n",
    " \n",
    "def is_on_curve(P, p):\n",
    "    x, y = P\n",
    "    assert (y*y) % p == ( pow(x, 3, p) + a*x + b ) % p\n",
    "     \n",
    "def apply_double_and_add_method(G, k, p):\n",
    "    target_point = G\n",
    "     \n",
    "    k_binary = bin(k)[2:] #0b1111111001\n",
    "     \n",
    "    for i in range(1, len(k_binary)):\n",
    "        current_bit = k_binary[i: i+1]\n",
    "         \n",
    "        # doubling - always\n",
    "        target_point = add_points(target_point, target_point, p)\n",
    "         \n",
    "        if current_bit == \"1\":\n",
    "            target_point = add_points(target_point, G, p)\n",
    "     \n",
    "    is_on_curve(target_point, p)\n",
    "     \n",
    "    return target_point"
   ]
  },
  {
   "cell_type": "code",
   "execution_count": 3,
   "metadata": {},
   "outputs": [],
   "source": [
    "# from :https://sefiks.com/2018/02/16/elegant-signatures-with-elliptic-curve-cryptography/\n",
    "# Secp256k1\n",
    "a = 0; b = 7\n",
    "G = (55066263022277343669578718895168534326250603453777594175500187360389116729240, \n",
    "     32670510020758816978083085130507043184471273380659243275938904335757337482424)\n",
    "\n",
    "\n",
    "#finite field\n",
    "p = pow(2, 256) - pow(2, 32) - pow(2, 9) - pow(2, 8) - pow(2, 7) - pow(2, 6) - pow(2, 4) - pow(2, 0)\n",
    "n = 115792089237316195423570985008687907852837564279074904382605163141518161494337"
   ]
  },
  {
   "cell_type": "code",
   "execution_count": 4,
   "metadata": {},
   "outputs": [],
   "source": [
    "point_2G = add_points(G,G,p)"
   ]
  },
  {
   "cell_type": "code",
   "execution_count": 5,
   "metadata": {},
   "outputs": [
    {
     "data": {
      "text/plain": [
       "(89565891926547004231252920425935692360644145829622209833684329913297188986597,\n",
       " 12158399299693830322967808612713398636155367887041628176798871954788371653930)"
      ]
     },
     "execution_count": 5,
     "metadata": {},
     "output_type": "execute_result"
    }
   ],
   "source": [
    "point_2G"
   ]
  },
  {
   "cell_type": "code",
   "execution_count": 7,
   "metadata": {},
   "outputs": [
    {
     "name": "stdout",
     "output_type": "stream",
     "text": [
      "2G = (89565891926547004231252920425935692360644145829622209833684329913297188986597, 12158399299693830322967808612713398636155367887041628176798871954788371653930)\n",
      "3G = (112711660439710606056748659173929673102114977341539408544630613555209775888121, 25583027980570883691656905877401976406448868254816295069919888960541586679410)\n",
      "4G = (103388573995635080359749164254216598308788835304023601477803095234286494993683, 37057141145242123013015316630864329550140216928701153669873286428255828810018)\n",
      "5G = (21505829891763648114329055987619236494102133314575206970830385799158076338148, 98003708678762621233683240503080860129026887322874138805529884920309963580118)\n",
      "6G = (115780575977492633039504758427830329241728645270042306223540962614150928364886, 78735063515800386211891312544505775871260717697865196436804966483607426560663)\n",
      "7G = (41948375291644419605210209193538855353224492619856392092318293986323063962044, 48361766907851246668144012348516735800090617714386977531302791340517493990618)\n",
      "8G = (21262057306151627953595685090280431278183829487175876377991189246716355947009, 41749993296225487051377864631615517161996906063147759678534462689479575333124)\n",
      "9G = (78173298682877769088723994436027545680738210601369041078747105985693655485630, 92362876758821804597230797234617159328445543067760556585160674174871431781431)\n",
      "10G = (72488970228380509287422715226575535698893157273063074627791787432852706183111, 62070622898698443831883535403436258712770888294397026493185421712108624767191)\n",
      "11G = (53957576663012291606402345341061437133522758407718089353314528343643821967563, 98386217607324929854432842186271083758341411730506808463586570492533445740059)\n",
      "12G = (94111259592240215275188773285036844871058226277992966241101117022315524122714, 76870767327212528811304566602812752860184934880685532702451763239157141742375)\n",
      "13G = (109699032664856045668214896063362497021339186688470416858630178803463338613416, 4835088675770141268294878046681321747490758260515711581034896622314066275713)\n",
      "14G = (33301309993451753050311554695703528430361259803437469669590207169100761277412, 91711666877231500617203373035680263572492971120307578300405368749466283229019)\n",
      "15G = (97505755694356382817881959832717013755620551362654128955029190924747025549326, 39856815248295663243990443767776362321337592747889787217974905533720651000664)\n",
      "16G = (104059883622109321374094289636044428849728529177856482232626205340719788190730, 112122903140080327253741791678230372394936108416576609264408917599318947489825)\n",
      "17G = (100862081773581120499222301212791081193994281440454033593790618293887747050036, 29883864782608871580821802176208615141762369223249393426421538275393411672951)\n",
      "18G = (38901272619685732968285380035171577070479117282397203902622597987558769928140, 87393127487643849618870152207476122589010570440825041333620493866032028851544)\n",
      "19G = (19588375357829479297593261744848590434972900972071148260168833594658324503404, 60568592333449737531184420002591396163903580402725242236305558432410218044282)\n",
      "20G = (34773495056115281091786765947597603724784643419904767525769502836017890139287, 8470533044743364938367028725608288731153024648869546164814808839694950063162)\n"
     ]
    }
   ],
   "source": [
    "tmp_point = G\n",
    "for i in range(2,21):\n",
    "    tmp_point = add_points(tmp_point, G, p)\n",
    "    print(f\"{i}G = {tmp_point}\")"
   ]
  },
  {
   "cell_type": "code",
   "execution_count": 8,
   "metadata": {},
   "outputs": [
    {
     "data": {
      "text/plain": [
       "(34773495056115281091786765947597603724784643419904767525769502836017890139287,\n",
       " 8470533044743364938367028725608288731153024648869546164814808839694950063162)"
      ]
     },
     "execution_count": 8,
     "metadata": {},
     "output_type": "execute_result"
    }
   ],
   "source": [
    "apply_double_and_add_method(G= G, k = 20, p= p)"
   ]
  },
  {
   "cell_type": "code",
   "execution_count": null,
   "metadata": {},
   "outputs": [],
   "source": [
    "# Q  = k x G"
   ]
  },
  {
   "cell_type": "markdown",
   "metadata": {},
   "source": [
    "## Alice generates her private and public key pair"
   ]
  },
  {
   "cell_type": "code",
   "execution_count": 10,
   "metadata": {},
   "outputs": [],
   "source": [
    "import random\n",
    "import hashlib"
   ]
  },
  {
   "cell_type": "code",
   "execution_count": 11,
   "metadata": {},
   "outputs": [],
   "source": [
    "# private key of Alice\n",
    "d = random.getrandbits(256)\n",
    "\n",
    "# public key of Alice\n",
    "Q = apply_double_and_add_method(G = G, k =d , p=p)\n"
   ]
  },
  {
   "cell_type": "code",
   "execution_count": 42,
   "metadata": {},
   "outputs": [
    {
     "data": {
      "text/plain": [
       "108395789411961615835399851759863454075012628118857096644424533495328272294468"
      ]
     },
     "execution_count": 42,
     "metadata": {},
     "output_type": "execute_result"
    }
   ],
   "source": [
    "d"
   ]
  },
  {
   "cell_type": "code",
   "execution_count": 12,
   "metadata": {},
   "outputs": [],
   "source": [
    "random_key = random.getrandbits(256)\n",
    "random_point = apply_double_and_add_method(G = G, k= random_key , p=p)\n"
   ]
  },
  {
   "cell_type": "code",
   "execution_count": 28,
   "metadata": {},
   "outputs": [
    {
     "data": {
      "text/plain": [
       "34980700951895659285136384642521748599333592514493469351601238298407345280273"
      ]
     },
     "execution_count": 28,
     "metadata": {},
     "output_type": "execute_result"
    }
   ],
   "source": [
    "random_key"
   ]
  },
  {
   "cell_type": "code",
   "execution_count": 29,
   "metadata": {},
   "outputs": [],
   "source": [
    "# message = b\"ECC beats RSA\"\n",
    "message =  b\"ECC beats Diffie-Hellman, too!\"\n",
    "hash_hex= hashlib.sha1(message).hexdigest()\n",
    "hash_int =int(hash_hex, 16)"
   ]
  },
  {
   "cell_type": "code",
   "execution_count": 30,
   "metadata": {},
   "outputs": [
    {
     "data": {
      "text/plain": [
       "531204124611006148816545464087066627965678629689"
      ]
     },
     "execution_count": 30,
     "metadata": {},
     "output_type": "execute_result"
    }
   ],
   "source": [
    "hash_int"
   ]
  },
  {
   "cell_type": "markdown",
   "metadata": {},
   "source": [
    "## Sign"
   ]
  },
  {
   "cell_type": "code",
   "execution_count": 31,
   "metadata": {},
   "outputs": [],
   "source": [
    "# (r,s)\n",
    "r = ( random_point[0]) % n\n",
    "s = ( (hash_int + r* d ) * pow(random_key, -1, n)) % n\n",
    "\n",
    "\n",
    "# s1 = (h1 + r * d) * random_key ^ -1\n",
    "# s2 = (h2 + r * d) * random_key ^ -1\n",
    "# s1 - s2 = (h1 + r * d) * random_key ^ -1 - ( h2 + r * d) * random_key ^ -1\n",
    "# s1 - s2 = random_key & -1 * (h1 + r * d - h2 - r * d)\n",
    "# s1 - s2 = random_key ^ -1 * (h1- h2)\n",
    "# (s1 - s2) / (h1 - h2) = random_key ^ -1\n",
    "# (h1 - h2) / (s1 - s2) = random_key"
   ]
  },
  {
   "cell_type": "code",
   "execution_count": 32,
   "metadata": {},
   "outputs": [
    {
     "data": {
      "text/plain": [
       "20428615131696736526988868550202295935367423786502498705763296778663460029248"
      ]
     },
     "execution_count": 32,
     "metadata": {},
     "output_type": "execute_result"
    }
   ],
   "source": [
    "r"
   ]
  },
  {
   "cell_type": "code",
   "execution_count": 33,
   "metadata": {},
   "outputs": [
    {
     "data": {
      "text/plain": [
       "4494460473035111833568019675780148601125534298477543159149381137274376904072"
      ]
     },
     "execution_count": 33,
     "metadata": {},
     "output_type": "execute_result"
    }
   ],
   "source": [
    "s"
   ]
  },
  {
   "cell_type": "markdown",
   "metadata": {},
   "source": [
    "## Attacking\n",
    "\n",
    "- [Attacking ECDSA with Not Random Keys: The Sony PlayStation 3 Hack](https://www.youtube.com/watch?v=OWv9c0mlppI&list=PLsS_1RYmYQQEun1MTwmvbXurqHIJrFJ0e&index=13)"
   ]
  },
  {
   "cell_type": "code",
   "execution_count": 35,
   "metadata": {},
   "outputs": [],
   "source": [
    "s1 =100991366230175073577062156396065625457283721916183640804389675265266059552088\n",
    "h1 =320026739459778556085970613903841025917693204146\n",
    "\n",
    "s2 = 4494460473035111833568019675780148601125534298477543159149381137274376904072\n",
    "h2 = 531204124611006148816545464087066627965678629689"
   ]
  },
  {
   "cell_type": "code",
   "execution_count": 36,
   "metadata": {},
   "outputs": [],
   "source": [
    "random_key_prime = (((h1- h2)% n) * pow( s1 - s2, -1, n)) % n"
   ]
  },
  {
   "cell_type": "code",
   "execution_count": 37,
   "metadata": {},
   "outputs": [
    {
     "data": {
      "text/plain": [
       "34980700951895659285136384642521748599333592514493469351601238298407345280273"
      ]
     },
     "execution_count": 37,
     "metadata": {},
     "output_type": "execute_result"
    }
   ],
   "source": [
    "random_key_prime"
   ]
  },
  {
   "cell_type": "code",
   "execution_count": 38,
   "metadata": {},
   "outputs": [],
   "source": [
    "assert random_key == random_key_prime"
   ]
  },
  {
   "cell_type": "code",
   "execution_count": 40,
   "metadata": {},
   "outputs": [],
   "source": [
    "random_point_prime = apply_double_and_add_method(G= G, k= random_key_prime, p= p)\n",
    "r_prime = random_point_prime[0]"
   ]
  },
  {
   "cell_type": "code",
   "execution_count": 41,
   "metadata": {},
   "outputs": [],
   "source": [
    "assert r_prime ==r"
   ]
  },
  {
   "cell_type": "code",
   "execution_count": null,
   "metadata": {},
   "outputs": [],
   "source": [
    "# s1 = (h1 + r*d) * random_key ^ -1\n",
    "# s1 * random_key = h1 + r* d\n",
    "# s1 * random_key -h1 = r * d\n",
    "# (s1 * random_key - h1 ) / r = d"
   ]
  },
  {
   "cell_type": "code",
   "execution_count": 43,
   "metadata": {},
   "outputs": [],
   "source": [
    "# 108395789411961615835399851759863454075012628118857096644424533495328272294468\n",
    "d_prime = ( (s1 * random_key_prime - h1) * pow(r, -1, n)) % n"
   ]
  },
  {
   "cell_type": "code",
   "execution_count": 44,
   "metadata": {},
   "outputs": [
    {
     "data": {
      "text/plain": [
       "108395789411961615835399851759863454075012628118857096644424533495328272294468"
      ]
     },
     "execution_count": 44,
     "metadata": {},
     "output_type": "execute_result"
    }
   ],
   "source": [
    "d_prime"
   ]
  },
  {
   "cell_type": "code",
   "execution_count": 45,
   "metadata": {},
   "outputs": [],
   "source": [
    "assert d_prime ==d"
   ]
  },
  {
   "cell_type": "markdown",
   "metadata": {},
   "source": [
    "## Verification"
   ]
  },
  {
   "cell_type": "code",
   "execution_count": 23,
   "metadata": {},
   "outputs": [],
   "source": [
    "w = pow(s, -1, n)\n",
    "u1 = apply_double_and_add_method(G = G, k = ( hash_int * w ) % n, p=p)\n",
    "u2 = apply_double_and_add_method(G = G, k = (r * w) % n, p=p) "
   ]
  },
  {
   "cell_type": "code",
   "execution_count": 24,
   "metadata": {},
   "outputs": [],
   "source": [
    "# u1 + u2\n",
    "checkpoint = add_points(P = u1, Q = u2, p=p)"
   ]
  },
  {
   "cell_type": "code",
   "execution_count": 26,
   "metadata": {},
   "outputs": [
    {
     "ename": "AssertionError",
     "evalue": "",
     "output_type": "error",
     "traceback": [
      "\u001b[0;31m---------------------------------------------------------------------------\u001b[0m",
      "\u001b[0;31mAssertionError\u001b[0m                            Traceback (most recent call last)",
      "Cell \u001b[0;32mIn[26], line 1\u001b[0m\n\u001b[0;32m----> 1\u001b[0m \u001b[38;5;28;01massert\u001b[39;00m checkpoint[\u001b[38;5;241m0\u001b[39m] \u001b[38;5;241m==\u001b[39mr\n",
      "\u001b[0;31mAssertionError\u001b[0m: "
     ]
    }
   ],
   "source": [
    "assert checkpoint[0] ==r"
   ]
  },
  {
   "cell_type": "code",
   "execution_count": null,
   "metadata": {},
   "outputs": [],
   "source": []
  }
 ],
 "metadata": {
  "kernelspec": {
   "display_name": "base",
   "language": "python",
   "name": "python3"
  },
  "language_info": {
   "codemirror_mode": {
    "name": "ipython",
    "version": 3
   },
   "file_extension": ".py",
   "mimetype": "text/x-python",
   "name": "python",
   "nbconvert_exporter": "python",
   "pygments_lexer": "ipython3",
   "version": "3.11.7"
  }
 },
 "nbformat": 4,
 "nbformat_minor": 2
}
