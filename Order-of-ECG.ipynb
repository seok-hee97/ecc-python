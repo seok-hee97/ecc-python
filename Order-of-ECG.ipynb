{
 "cells": [
  {
   "cell_type": "markdown",
   "metadata": {},
   "source": [
    "## Order of An Elliptic Curve Group In Python From Scratch\n",
    "\n",
    "\n",
    "#### Reference.      \n",
    "- [Order Of An Elliptic Curve Group in Python From Scratch](https://www.youtube.com/watch?v=G0ZrN6IKVjs&list=PLsS_1RYmYQQEun1MTwmvbXurqHIJrFJ0e&index=8)\n",
    "- [The Math Behind Elliptic Curves in Koblitz Form](https://sefiks.com/2016/03/13/the-math-behind-elliptic-curves-over-binary-field/#google_vignette)\n",
    "\n"
   ]
  },
  {
   "cell_type": "code",
   "execution_count": 6,
   "metadata": {},
   "outputs": [],
   "source": [
    "# y^2 = x^3 + a*x +b"
   ]
  },
  {
   "cell_type": "code",
   "execution_count": 7,
   "metadata": {},
   "outputs": [],
   "source": [
    "def is_one_curve(P, p):\n",
    "    x, y = P\n",
    "    assert (y*y) % p == (pow(x,3,p) + a*x +b) % p"
   ]
  },
  {
   "cell_type": "code",
   "execution_count": 8,
   "metadata": {},
   "outputs": [],
   "source": [
    "def add_point(P,Q, p):\n",
    "    x1, y1 = P\n",
    "    x2, y2 = Q\n",
    "    \n",
    "    if x1 == x2 and y1 == y2:\n",
    "        beta = (3 * x1 * x2 + a) * pow(2*y1, -1 , p)\n",
    "    else:\n",
    "        beta = (y2 - y1) *pow(x2 - x1, -1 ,p)\n",
    "        \n",
    "    x3 = (beta*beta - x1 - x2) % p\n",
    "    y3 = (beta * (x1 - x3) -y1) % p\n",
    "    \n",
    "    is_one_curve((x3, y3), p)\n",
    "    return x3, y3"
   ]
  },
  {
   "cell_type": "code",
   "execution_count": 9,
   "metadata": {},
   "outputs": [],
   "source": [
    "def is_one_curve(P, p):\n",
    "    x, y = P\n",
    "    assert (y*y) % p == (pow(x,3,p) + a*x +b) % p"
   ]
  },
  {
   "cell_type": "code",
   "execution_count": 10,
   "metadata": {},
   "outputs": [],
   "source": [
    "# y^2 = x^3 +x + 1\n",
    "a = 1\n",
    "b = 1\n",
    "\n",
    "\n",
    "# modulo\n",
    "p = 23\n",
    "\n",
    "# base point\n",
    "G = (0, 1)"
   ]
  },
  {
   "cell_type": "code",
   "execution_count": 11,
   "metadata": {},
   "outputs": [],
   "source": [
    "is_one_curve(G,p)"
   ]
  },
  {
   "cell_type": "code",
   "execution_count": null,
   "metadata": {},
   "outputs": [],
   "source": [
    "current_point = G\n",
    "while True:\n",
    "    "
   ]
  }
 ],
 "metadata": {
  "kernelspec": {
   "display_name": "base",
   "language": "python",
   "name": "python3"
  },
  "language_info": {
   "codemirror_mode": {
    "name": "ipython",
    "version": 3
   },
   "file_extension": ".py",
   "mimetype": "text/x-python",
   "name": "python",
   "nbconvert_exporter": "python",
   "pygments_lexer": "ipython3",
   "version": "3.11.7"
  }
 },
 "nbformat": 4,
 "nbformat_minor": 2
}
