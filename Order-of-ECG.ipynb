{
 "cells": [
  {
   "cell_type": "markdown",
   "metadata": {},
   "source": [
    "## Order of An Elliptic Curve Group In Python From Scratch\n",
    "\n",
    "\n",
    "#### Reference.      \n",
    "- [Order Of An Elliptic Curve Group in Python From Scratch](https://www.youtube.com/watch?v=G0ZrN6IKVjs&list=PLsS_1RYmYQQEun1MTwmvbXurqHIJrFJ0e&index=8)\n",
    "- [The Math Behind Elliptic Curves in Koblitz Form](https://sefiks.com/2016/03/13/the-math-behind-elliptic-curves-over-binary-field/#google_vignette)\n",
    "\n"
   ]
  },
  {
   "cell_type": "code",
   "execution_count": 30,
   "metadata": {},
   "outputs": [],
   "source": [
    "# y^2 = x^3 + a*x +b"
   ]
  },
  {
   "cell_type": "code",
   "execution_count": 31,
   "metadata": {},
   "outputs": [],
   "source": [
    "import numpy as np\n",
    "import matplotlib.pyplot as plt"
   ]
  },
  {
   "cell_type": "code",
   "execution_count": 32,
   "metadata": {},
   "outputs": [],
   "source": [
    "O = (np.inf, np.inf)"
   ]
  },
  {
   "cell_type": "code",
   "execution_count": 33,
   "metadata": {},
   "outputs": [],
   "source": [
    "def is_one_curve(P, p):\n",
    "    x, y = P\n",
    "    assert (y*y) % p == (pow(x,3,p) + a*x +b) % p"
   ]
  },
  {
   "cell_type": "code",
   "execution_count": 34,
   "metadata": {},
   "outputs": [],
   "source": [
    "def add_point(P,Q, p):\n",
    "    x1, y1 = P\n",
    "    x2, y2 = Q\n",
    "    \n",
    "    if x1 == x2 and y1 == y2:\n",
    "        beta = (3 * x1 * x2 + a) * pow(2*y1, -1 , p)\n",
    "    else:\n",
    "        beta = (y2 - y1) *pow(x2 - x1, -1 ,p)\n",
    "        \n",
    "    x3 = (beta*beta - x1 - x2) % p\n",
    "    y3 = (beta * (x1 - x3) -y1) % p\n",
    "    \n",
    "    is_one_curve((x3, y3), p)\n",
    "    return x3, y3"
   ]
  },
  {
   "cell_type": "code",
   "execution_count": 35,
   "metadata": {},
   "outputs": [],
   "source": [
    "def is_one_curve(P, p):\n",
    "    x, y = P\n",
    "    assert (y*y) % p == (pow(x,3,p) + a*x +b) % p"
   ]
  },
  {
   "cell_type": "code",
   "execution_count": 36,
   "metadata": {},
   "outputs": [],
   "source": [
    "# y^2 = x^3 +x + 1\n",
    "a = 1\n",
    "b = 1\n",
    "\n",
    "\n",
    "# modulo\n",
    "p = 23\n",
    "\n",
    "# base point\n",
    "G = (0, 1)"
   ]
  },
  {
   "cell_type": "code",
   "execution_count": 37,
   "metadata": {},
   "outputs": [],
   "source": [
    "is_one_curve(G,p)"
   ]
  },
  {
   "cell_type": "code",
   "execution_count": 38,
   "metadata": {},
   "outputs": [
    {
     "name": "stdout",
     "output_type": "stream",
     "text": [
      "G  = (0, 1)\n",
      "2 x G = (6, 19)\n",
      "3 x G = (3, 13)\n",
      "4 x G = (13, 16)\n",
      "5 x G = (18, 3)\n",
      "6 x G = (7, 11)\n",
      "7 x G = (11, 3)\n",
      "8 x G = (5, 19)\n",
      "9 x G = (19, 18)\n",
      "10 x G = (12, 4)\n",
      "11 x G = (1, 16)\n",
      "12 x G = (17, 20)\n",
      "13 x G = (9, 16)\n",
      "14 x G = (4, 0)\n",
      "15 x G = (9, 7)\n",
      "16 x G = (17, 3)\n",
      "17 x G = (1, 7)\n",
      "18 x G = (12, 19)\n",
      "19 x G = (19, 5)\n",
      "20 x G = (5, 4)\n",
      "21 x G = (11, 20)\n",
      "22 x G = (7, 12)\n",
      "23 x G = (18, 20)\n",
      "24 x G = (13, 7)\n",
      "25 x G = (3, 10)\n",
      "26 x G = (6, 4)\n",
      "27 x G = (0, 22)\n",
      "28 x G = (inf, inf)\n"
     ]
    }
   ],
   "source": [
    "\n",
    "points = []\n",
    "print(f\"G  = {G}\")\n",
    "current_point = G\n",
    "n = 1\n",
    "while True:\n",
    "    try:\n",
    "        current_point = add_point(current_point, G, p)\n",
    "        n +=1\n",
    "        print(f\"{n} x G = {current_point}\")\n",
    "        points.append(current_point)\n",
    "    except:\n",
    "        print(f\"{n + 1} x G = {O}\")\n",
    "        break\n",
    "    "
   ]
  },
  {
   "cell_type": "code",
   "execution_count": 39,
   "metadata": {},
   "outputs": [
    {
     "data": {
      "text/plain": [
       "(0, 1)"
      ]
     },
     "execution_count": 39,
     "metadata": {},
     "output_type": "execute_result"
    }
   ],
   "source": [
    "# 29 x G = 1 x G\n",
    "add_point(P = (0, 22), Q = (6, 19), p =p)"
   ]
  },
  {
   "cell_type": "code",
   "execution_count": 40,
   "metadata": {},
   "outputs": [
    {
     "data": {
      "text/plain": [
       "(6, 19)"
      ]
     },
     "execution_count": 40,
     "metadata": {},
     "output_type": "execute_result"
    }
   ],
   "source": [
    "# 30 x G = 2 x G\n",
    "add_point(P = (0,22), Q = (3, 13), p=p)"
   ]
  },
  {
   "cell_type": "code",
   "execution_count": 41,
   "metadata": {},
   "outputs": [
    {
     "data": {
      "image/png": "[encoded data removed]",
      "text/plain": [
       "<Figure size 640x480 with 1 Axes>"
      ]
     },
     "metadata": {},
     "output_type": "display_data"
    }
   ],
   "source": [
    "for point in points:\n",
    "    plt.scatter(point[0], point[1], c= \"blue\")\n",
    "    \n",
    "plt.show()"
   ]
  },
  {
   "cell_type": "code",
   "execution_count": 42,
   "metadata": {},
   "outputs": [
    {
     "name": "stdout",
     "output_type": "stream",
     "text": [
      "F(23) = 28\n"
     ]
    }
   ],
   "source": [
    "# F(p) = n\n",
    "print(f\"F({p}) = {n+1}\")"
   ]
  },
  {
   "cell_type": "code",
   "execution_count": null,
   "metadata": {},
   "outputs": [],
   "source": []
  }
 ],
 "metadata": {
  "kernelspec": {
   "display_name": "base",
   "language": "python",
   "name": "python3"
  },
  "language_info": {
   "codemirror_mode": {
    "name": "ipython",
    "version": 3
   },
   "file_extension": ".py",
   "mimetype": "text/x-python",
   "name": "python",
   "nbconvert_exporter": "python",
   "pygments_lexer": "ipython3",
   "version": "3.11.7"
  }
 },
 "nbformat": 4,
 "nbformat_minor": 2
}
